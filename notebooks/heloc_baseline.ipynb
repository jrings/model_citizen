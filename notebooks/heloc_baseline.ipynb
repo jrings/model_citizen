{
 "cells": [
  {
   "cell_type": "code",
   "execution_count": null,
   "metadata": {},
   "outputs": [],
   "source": [
    "%load_ext rich\n",
    "from datasets import load_dataset\n",
    "\n",
    "import numpy as np\n",
    "import pandas as pd\n",
    "\n",
    "from sklearn.linear_model import LogisticRegression\n",
    "from sklearn.model_selection import cross_validate\n",
    "from sklearn.preprocessing import StandardScaler\n",
    "from sklearn.metrics import roc_auc_score\n",
    "\n",
    "import seaborn as sns\n",
    "import matplotlib.pyplot as plt\n",
    "\n",
    "from ipywidgets import interact\n",
    "from interpret.glassbox import ExplainableBoostingClassifier\n",
    "from interpret import show\n",
    "\n",
    "sns.set_context(\"notebook\")\n",
    "sns.set_palette(\"colorblind\")\n",
    "\n",
    "ds = load_dataset(\"mstz/heloc\")"
   ]
  },
  {
   "cell_type": "markdown",
   "metadata": {},
   "source": [
    "## HELOC\n",
    "\n",
    "The HELOC dataset from FICO. Each entry in the dataset is a line of credit, typically offered by a bank as a percentage of home equity (the difference between the current market value of a home and its purchase price). The customers in this dataset have requested a credit line in the range of $5,000 - $150,000. The fundamental task is to use the information about the applicant in their credit report to predict whether they will repay their HELOC account within 2 years."
   ]
  },
  {
   "cell_type": "code",
   "execution_count": 2,
   "metadata": {},
   "outputs": [],
   "source": [
    "df = pd.DataFrame(ds[\"train\"])\n",
    "est_risk = df.pop(\"estimate_of_risk\")"
   ]
  },
  {
   "cell_type": "code",
   "execution_count": 3,
   "metadata": {},
   "outputs": [
    {
     "data": {
      "text/html": [
       "<pre style=\"white-space:pre;overflow-x:auto;line-height:normal;font-family:Menlo,'DejaVu Sans Mono',consolas,'Courier New',monospace\"></pre>\n"
      ],
      "text/plain": []
     },
     "metadata": {},
     "output_type": "display_data"
    },
    {
     "data": {
      "text/html": [
       "<div>\n",
       "<style scoped>\n",
       "    .dataframe tbody tr th:only-of-type {\n",
       "        vertical-align: middle;\n",
       "    }\n",
       "\n",
       "    .dataframe tbody tr th {\n",
       "        vertical-align: top;\n",
       "    }\n",
       "\n",
       "    .dataframe thead th {\n",
       "        text-align: right;\n",
       "    }\n",
       "</style>\n",
       "<table border=\"1\" class=\"dataframe\">\n",
       "  <thead>\n",
       "    <tr style=\"text-align: right;\">\n",
       "      <th></th>\n",
       "      <th>months_since_first_trade</th>\n",
       "      <th>months_since_last_trade</th>\n",
       "      <th>average_duration_of_resolution</th>\n",
       "      <th>number_of_satisfactory_trades</th>\n",
       "      <th>nr_trades_insolvent_for_over_60_days</th>\n",
       "      <th>nr_trades_insolvent_for_over_90_days</th>\n",
       "      <th>percentage_of_legal_trades</th>\n",
       "      <th>months_since_last_illegal_trade</th>\n",
       "      <th>maximum_illegal_trades_over_last_year</th>\n",
       "      <th>maximum_illegal_trades</th>\n",
       "      <th>...</th>\n",
       "      <th>percentage_of_installment_trades</th>\n",
       "      <th>months_since_last_inquiry_not_recent</th>\n",
       "      <th>nr_inquiries_in_last_6_months</th>\n",
       "      <th>nr_inquiries_in_last_6_months_not_recent</th>\n",
       "      <th>net_fraction_of_revolving_burden</th>\n",
       "      <th>net_fraction_of_installment_burden</th>\n",
       "      <th>nr_revolving_trades_with_balance</th>\n",
       "      <th>nr_installment_trades_with_balance</th>\n",
       "      <th>nr_banks_with_high_ratio</th>\n",
       "      <th>percentage_trades_with_balance</th>\n",
       "    </tr>\n",
       "  </thead>\n",
       "  <tbody>\n",
       "    <tr>\n",
       "      <th>0</th>\n",
       "      <td>144</td>\n",
       "      <td>4</td>\n",
       "      <td>84</td>\n",
       "      <td>20</td>\n",
       "      <td>3</td>\n",
       "      <td>0</td>\n",
       "      <td>83</td>\n",
       "      <td>2</td>\n",
       "      <td>3</td>\n",
       "      <td>5</td>\n",
       "      <td>...</td>\n",
       "      <td>43</td>\n",
       "      <td>0</td>\n",
       "      <td>0</td>\n",
       "      <td>0</td>\n",
       "      <td>33</td>\n",
       "      <td>-8</td>\n",
       "      <td>8</td>\n",
       "      <td>1</td>\n",
       "      <td>1</td>\n",
       "      <td>69</td>\n",
       "    </tr>\n",
       "    <tr>\n",
       "      <th>1</th>\n",
       "      <td>58</td>\n",
       "      <td>15</td>\n",
       "      <td>41</td>\n",
       "      <td>2</td>\n",
       "      <td>4</td>\n",
       "      <td>4</td>\n",
       "      <td>100</td>\n",
       "      <td>-7</td>\n",
       "      <td>0</td>\n",
       "      <td>8</td>\n",
       "      <td>...</td>\n",
       "      <td>67</td>\n",
       "      <td>0</td>\n",
       "      <td>0</td>\n",
       "      <td>0</td>\n",
       "      <td>0</td>\n",
       "      <td>-8</td>\n",
       "      <td>0</td>\n",
       "      <td>-8</td>\n",
       "      <td>-8</td>\n",
       "      <td>0</td>\n",
       "    </tr>\n",
       "    <tr>\n",
       "      <th>2</th>\n",
       "      <td>66</td>\n",
       "      <td>5</td>\n",
       "      <td>24</td>\n",
       "      <td>9</td>\n",
       "      <td>0</td>\n",
       "      <td>0</td>\n",
       "      <td>100</td>\n",
       "      <td>-7</td>\n",
       "      <td>7</td>\n",
       "      <td>8</td>\n",
       "      <td>...</td>\n",
       "      <td>44</td>\n",
       "      <td>0</td>\n",
       "      <td>4</td>\n",
       "      <td>4</td>\n",
       "      <td>53</td>\n",
       "      <td>66</td>\n",
       "      <td>4</td>\n",
       "      <td>2</td>\n",
       "      <td>1</td>\n",
       "      <td>86</td>\n",
       "    </tr>\n",
       "    <tr>\n",
       "      <th>3</th>\n",
       "      <td>169</td>\n",
       "      <td>1</td>\n",
       "      <td>73</td>\n",
       "      <td>28</td>\n",
       "      <td>1</td>\n",
       "      <td>1</td>\n",
       "      <td>93</td>\n",
       "      <td>76</td>\n",
       "      <td>6</td>\n",
       "      <td>6</td>\n",
       "      <td>...</td>\n",
       "      <td>57</td>\n",
       "      <td>0</td>\n",
       "      <td>5</td>\n",
       "      <td>4</td>\n",
       "      <td>72</td>\n",
       "      <td>83</td>\n",
       "      <td>6</td>\n",
       "      <td>4</td>\n",
       "      <td>3</td>\n",
       "      <td>91</td>\n",
       "    </tr>\n",
       "    <tr>\n",
       "      <th>4</th>\n",
       "      <td>333</td>\n",
       "      <td>27</td>\n",
       "      <td>132</td>\n",
       "      <td>12</td>\n",
       "      <td>0</td>\n",
       "      <td>0</td>\n",
       "      <td>100</td>\n",
       "      <td>-7</td>\n",
       "      <td>7</td>\n",
       "      <td>8</td>\n",
       "      <td>...</td>\n",
       "      <td>25</td>\n",
       "      <td>0</td>\n",
       "      <td>1</td>\n",
       "      <td>1</td>\n",
       "      <td>51</td>\n",
       "      <td>89</td>\n",
       "      <td>3</td>\n",
       "      <td>1</td>\n",
       "      <td>0</td>\n",
       "      <td>80</td>\n",
       "    </tr>\n",
       "  </tbody>\n",
       "</table>\n",
       "<p>5 rows × 22 columns</p>\n",
       "</div>"
      ],
      "text/plain": [
       "\n",
       "   months_since_first_trade  months_since_last_trade  \\\n",
       "\u001b[1;36m0\u001b[0m                       \u001b[1;36m144\u001b[0m                        \u001b[1;36m4\u001b[0m   \n",
       "\u001b[1;36m1\u001b[0m                        \u001b[1;36m58\u001b[0m                       \u001b[1;36m15\u001b[0m   \n",
       "\u001b[1;36m2\u001b[0m                        \u001b[1;36m66\u001b[0m                        \u001b[1;36m5\u001b[0m   \n",
       "\u001b[1;36m3\u001b[0m                       \u001b[1;36m169\u001b[0m                        \u001b[1;36m1\u001b[0m   \n",
       "\u001b[1;36m4\u001b[0m                       \u001b[1;36m333\u001b[0m                       \u001b[1;36m27\u001b[0m   \n",
       "\n",
       "   average_duration_of_resolution  number_of_satisfactory_trades  \\\n",
       "\u001b[1;36m0\u001b[0m                              \u001b[1;36m84\u001b[0m                             \u001b[1;36m20\u001b[0m   \n",
       "\u001b[1;36m1\u001b[0m                              \u001b[1;36m41\u001b[0m                              \u001b[1;36m2\u001b[0m   \n",
       "\u001b[1;36m2\u001b[0m                              \u001b[1;36m24\u001b[0m                              \u001b[1;36m9\u001b[0m   \n",
       "\u001b[1;36m3\u001b[0m                              \u001b[1;36m73\u001b[0m                             \u001b[1;36m28\u001b[0m   \n",
       "\u001b[1;36m4\u001b[0m                             \u001b[1;36m132\u001b[0m                             \u001b[1;36m12\u001b[0m   \n",
       "\n",
       "   nr_trades_insolvent_for_over_60_days  nr_trades_insolvent_for_over_90_days  \\\n",
       "\u001b[1;36m0\u001b[0m                                     \u001b[1;36m3\u001b[0m                                     \u001b[1;36m0\u001b[0m   \n",
       "\u001b[1;36m1\u001b[0m                                     \u001b[1;36m4\u001b[0m                                     \u001b[1;36m4\u001b[0m   \n",
       "\u001b[1;36m2\u001b[0m                                     \u001b[1;36m0\u001b[0m                                     \u001b[1;36m0\u001b[0m   \n",
       "\u001b[1;36m3\u001b[0m                                     \u001b[1;36m1\u001b[0m                                     \u001b[1;36m1\u001b[0m   \n",
       "\u001b[1;36m4\u001b[0m                                     \u001b[1;36m0\u001b[0m                                     \u001b[1;36m0\u001b[0m   \n",
       "\n",
       "   percentage_of_legal_trades  months_since_last_illegal_trade  \\\n",
       "\u001b[1;36m0\u001b[0m                          \u001b[1;36m83\u001b[0m                                \u001b[1;36m2\u001b[0m   \n",
       "\u001b[1;36m1\u001b[0m                         \u001b[1;36m100\u001b[0m                               \u001b[1;36m-7\u001b[0m   \n",
       "\u001b[1;36m2\u001b[0m                         \u001b[1;36m100\u001b[0m                               \u001b[1;36m-7\u001b[0m   \n",
       "\u001b[1;36m3\u001b[0m                          \u001b[1;36m93\u001b[0m                               \u001b[1;36m76\u001b[0m   \n",
       "\u001b[1;36m4\u001b[0m                         \u001b[1;36m100\u001b[0m                               \u001b[1;36m-7\u001b[0m   \n",
       "\n",
       "   maximum_illegal_trades_over_last_year  maximum_illegal_trades  \u001b[33m...\u001b[0m  \\\n",
       "\u001b[1;36m0\u001b[0m                                      \u001b[1;36m3\u001b[0m                       \u001b[1;36m5\u001b[0m  \u001b[33m...\u001b[0m   \n",
       "\u001b[1;36m1\u001b[0m                                      \u001b[1;36m0\u001b[0m                       \u001b[1;36m8\u001b[0m  \u001b[33m...\u001b[0m   \n",
       "\u001b[1;36m2\u001b[0m                                      \u001b[1;36m7\u001b[0m                       \u001b[1;36m8\u001b[0m  \u001b[33m...\u001b[0m   \n",
       "\u001b[1;36m3\u001b[0m                                      \u001b[1;36m6\u001b[0m                       \u001b[1;36m6\u001b[0m  \u001b[33m...\u001b[0m   \n",
       "\u001b[1;36m4\u001b[0m                                      \u001b[1;36m7\u001b[0m                       \u001b[1;36m8\u001b[0m  \u001b[33m...\u001b[0m   \n",
       "\n",
       "   percentage_of_installment_trades  months_since_last_inquiry_not_recent  \\\n",
       "\u001b[1;36m0\u001b[0m                                \u001b[1;36m43\u001b[0m                                     \u001b[1;36m0\u001b[0m   \n",
       "\u001b[1;36m1\u001b[0m                                \u001b[1;36m67\u001b[0m                                     \u001b[1;36m0\u001b[0m   \n",
       "\u001b[1;36m2\u001b[0m                                \u001b[1;36m44\u001b[0m                                     \u001b[1;36m0\u001b[0m   \n",
       "\u001b[1;36m3\u001b[0m                                \u001b[1;36m57\u001b[0m                                     \u001b[1;36m0\u001b[0m   \n",
       "\u001b[1;36m4\u001b[0m                                \u001b[1;36m25\u001b[0m                                     \u001b[1;36m0\u001b[0m   \n",
       "\n",
       "   nr_inquiries_in_last_6_months  nr_inquiries_in_last_6_months_not_recent  \\\n",
       "\u001b[1;36m0\u001b[0m                              \u001b[1;36m0\u001b[0m                                         \u001b[1;36m0\u001b[0m   \n",
       "\u001b[1;36m1\u001b[0m                              \u001b[1;36m0\u001b[0m                                         \u001b[1;36m0\u001b[0m   \n",
       "\u001b[1;36m2\u001b[0m                              \u001b[1;36m4\u001b[0m                                         \u001b[1;36m4\u001b[0m   \n",
       "\u001b[1;36m3\u001b[0m                              \u001b[1;36m5\u001b[0m                                         \u001b[1;36m4\u001b[0m   \n",
       "\u001b[1;36m4\u001b[0m                              \u001b[1;36m1\u001b[0m                                         \u001b[1;36m1\u001b[0m   \n",
       "\n",
       "   net_fraction_of_revolving_burden  net_fraction_of_installment_burden  \\\n",
       "\u001b[1;36m0\u001b[0m                                \u001b[1;36m33\u001b[0m                                  \u001b[1;36m-8\u001b[0m   \n",
       "\u001b[1;36m1\u001b[0m                                 \u001b[1;36m0\u001b[0m                                  \u001b[1;36m-8\u001b[0m   \n",
       "\u001b[1;36m2\u001b[0m                                \u001b[1;36m53\u001b[0m                                  \u001b[1;36m66\u001b[0m   \n",
       "\u001b[1;36m3\u001b[0m                                \u001b[1;36m72\u001b[0m                                  \u001b[1;36m83\u001b[0m   \n",
       "\u001b[1;36m4\u001b[0m                                \u001b[1;36m51\u001b[0m                                  \u001b[1;36m89\u001b[0m   \n",
       "\n",
       "   nr_revolving_trades_with_balance  nr_installment_trades_with_balance  \\\n",
       "\u001b[1;36m0\u001b[0m                                 \u001b[1;36m8\u001b[0m                                   \u001b[1;36m1\u001b[0m   \n",
       "\u001b[1;36m1\u001b[0m                                 \u001b[1;36m0\u001b[0m                                  \u001b[1;36m-8\u001b[0m   \n",
       "\u001b[1;36m2\u001b[0m                                 \u001b[1;36m4\u001b[0m                                   \u001b[1;36m2\u001b[0m   \n",
       "\u001b[1;36m3\u001b[0m                                 \u001b[1;36m6\u001b[0m                                   \u001b[1;36m4\u001b[0m   \n",
       "\u001b[1;36m4\u001b[0m                                 \u001b[1;36m3\u001b[0m                                   \u001b[1;36m1\u001b[0m   \n",
       "\n",
       "   nr_banks_with_high_ratio  percentage_trades_with_balance  \n",
       "\u001b[1;36m0\u001b[0m                         \u001b[1;36m1\u001b[0m                              \u001b[1;36m69\u001b[0m  \n",
       "\u001b[1;36m1\u001b[0m                        \u001b[1;36m-8\u001b[0m                               \u001b[1;36m0\u001b[0m  \n",
       "\u001b[1;36m2\u001b[0m                         \u001b[1;36m1\u001b[0m                              \u001b[1;36m86\u001b[0m  \n",
       "\u001b[1;36m3\u001b[0m                         \u001b[1;36m3\u001b[0m                              \u001b[1;36m91\u001b[0m  \n",
       "\u001b[1;36m4\u001b[0m                         \u001b[1;36m0\u001b[0m                              \u001b[1;36m80\u001b[0m  \n",
       "\n",
       "\u001b[1m[\u001b[0m\u001b[1;36m5\u001b[0m rows x \u001b[1;36m22\u001b[0m columns\u001b[1m]\u001b[0m"
      ]
     },
     "execution_count": 3,
     "metadata": {},
     "output_type": "execute_result"
    }
   ],
   "source": [
    "y = np.array(df.pop(\"is_at_risk\"))\n",
    "df.head()"
   ]
  },
  {
   "cell_type": "code",
   "execution_count": 4,
   "metadata": {},
   "outputs": [
    {
     "data": {
      "text/html": [
       "<pre style=\"white-space:pre;overflow-x:auto;line-height:normal;font-family:Menlo,'DejaVu Sans Mono',consolas,'Courier New',monospace\"></pre>\n"
      ],
      "text/plain": []
     },
     "metadata": {},
     "output_type": "display_data"
    },
    {
     "data": {
      "text/plain": [
       "\u001b[1;36m0.5219428243617936\u001b[0m"
      ]
     },
     "execution_count": 4,
     "metadata": {},
     "output_type": "execute_result"
    }
   ],
   "source": [
    "y.sum()/len(y)"
   ]
  },
  {
   "cell_type": "markdown",
   "metadata": {},
   "source": [
    "## Some simple feature engineering and cleaning\n",
    "\n",
    "The data is very clean already..."
   ]
  },
  {
   "cell_type": "code",
   "execution_count": 5,
   "metadata": {},
   "outputs": [
    {
     "data": {
      "text/html": [
       "<pre style=\"white-space:pre;overflow-x:auto;line-height:normal;font-family:Menlo,'DejaVu Sans Mono',consolas,'Courier New',monospace\"></pre>\n"
      ],
      "text/plain": []
     },
     "metadata": {},
     "output_type": "display_data"
    },
    {
     "data": {
      "text/plain": [
       "\n",
       "months_since_first_trade                    \u001b[1;36m0\u001b[0m\n",
       "months_since_last_trade                     \u001b[1;36m0\u001b[0m\n",
       "average_duration_of_resolution              \u001b[1;36m0\u001b[0m\n",
       "number_of_satisfactory_trades               \u001b[1;36m0\u001b[0m\n",
       "nr_trades_insolvent_for_over_60_days        \u001b[1;36m0\u001b[0m\n",
       "nr_trades_insolvent_for_over_90_days        \u001b[1;36m0\u001b[0m\n",
       "percentage_of_legal_trades                  \u001b[1;36m0\u001b[0m\n",
       "months_since_last_illegal_trade             \u001b[1;36m0\u001b[0m\n",
       "maximum_illegal_trades_over_last_year       \u001b[1;36m0\u001b[0m\n",
       "maximum_illegal_trades                      \u001b[1;36m0\u001b[0m\n",
       "nr_total_trades                             \u001b[1;36m0\u001b[0m\n",
       "nr_trades_initiated_in_last_year            \u001b[1;36m0\u001b[0m\n",
       "percentage_of_installment_trades            \u001b[1;36m0\u001b[0m\n",
       "months_since_last_inquiry_not_recent        \u001b[1;36m0\u001b[0m\n",
       "nr_inquiries_in_last_6_months               \u001b[1;36m0\u001b[0m\n",
       "nr_inquiries_in_last_6_months_not_recent    \u001b[1;36m0\u001b[0m\n",
       "net_fraction_of_revolving_burden            \u001b[1;36m0\u001b[0m\n",
       "net_fraction_of_installment_burden          \u001b[1;36m0\u001b[0m\n",
       "nr_revolving_trades_with_balance            \u001b[1;36m0\u001b[0m\n",
       "nr_installment_trades_with_balance          \u001b[1;36m0\u001b[0m\n",
       "nr_banks_with_high_ratio                    \u001b[1;36m0\u001b[0m\n",
       "percentage_trades_with_balance              \u001b[1;36m0\u001b[0m\n",
       "dtype: int64"
      ]
     },
     "execution_count": 5,
     "metadata": {},
     "output_type": "execute_result"
    }
   ],
   "source": [
    "df[df<0] = 0\n",
    "# Count missing values\n",
    "df.isna().sum(axis=0)"
   ]
  },
  {
   "cell_type": "code",
   "execution_count": 6,
   "metadata": {},
   "outputs": [
    {
     "data": {
      "text/html": [
       "<pre style=\"white-space:pre;overflow-x:auto;line-height:normal;font-family:Menlo,'DejaVu Sans Mono',consolas,'Courier New',monospace\"></pre>\n"
      ],
      "text/plain": []
     },
     "metadata": {},
     "output_type": "display_data"
    },
    {
     "data": {
      "text/plain": [
       "\n",
       "months_since_first_trade                    \u001b[1;36m803\u001b[0m\n",
       "months_since_last_trade                     \u001b[1;36m383\u001b[0m\n",
       "average_duration_of_resolution              \u001b[1;36m383\u001b[0m\n",
       "number_of_satisfactory_trades                \u001b[1;36m79\u001b[0m\n",
       "nr_trades_insolvent_for_over_60_days         \u001b[1;36m19\u001b[0m\n",
       "nr_trades_insolvent_for_over_90_days         \u001b[1;36m19\u001b[0m\n",
       "percentage_of_legal_trades                  \u001b[1;36m100\u001b[0m\n",
       "months_since_last_illegal_trade              \u001b[1;36m83\u001b[0m\n",
       "maximum_illegal_trades_over_last_year         \u001b[1;36m9\u001b[0m\n",
       "maximum_illegal_trades                        \u001b[1;36m8\u001b[0m\n",
       "nr_total_trades                             \u001b[1;36m104\u001b[0m\n",
       "nr_trades_initiated_in_last_year             \u001b[1;36m19\u001b[0m\n",
       "percentage_of_installment_trades            \u001b[1;36m100\u001b[0m\n",
       "months_since_last_inquiry_not_recent         \u001b[1;36m24\u001b[0m\n",
       "nr_inquiries_in_last_6_months                \u001b[1;36m66\u001b[0m\n",
       "nr_inquiries_in_last_6_months_not_recent     \u001b[1;36m66\u001b[0m\n",
       "net_fraction_of_revolving_burden            \u001b[1;36m232\u001b[0m\n",
       "net_fraction_of_installment_burden          \u001b[1;36m471\u001b[0m\n",
       "nr_revolving_trades_with_balance             \u001b[1;36m32\u001b[0m\n",
       "nr_installment_trades_with_balance           \u001b[1;36m23\u001b[0m\n",
       "nr_banks_with_high_ratio                     \u001b[1;36m18\u001b[0m\n",
       "percentage_trades_with_balance              \u001b[1;36m100\u001b[0m\n",
       "dtype: int64"
      ]
     },
     "execution_count": 6,
     "metadata": {},
     "output_type": "execute_result"
    }
   ],
   "source": [
    "df.max(axis=0)"
   ]
  },
  {
   "cell_type": "code",
   "execution_count": 7,
   "metadata": {},
   "outputs": [
    {
     "data": {
      "text/html": [
       "<pre style=\"white-space:pre;overflow-x:auto;line-height:normal;font-family:Menlo,'DejaVu Sans Mono',consolas,'Courier New',monospace\"></pre>\n"
      ],
      "text/plain": []
     },
     "metadata": {},
     "output_type": "display_data"
    },
    {
     "data": {
      "text/plain": [
       "\n",
       "months_since_first_trade                    \u001b[1;36m1.0\u001b[0m\n",
       "months_since_last_trade                     \u001b[1;36m1.0\u001b[0m\n",
       "average_duration_of_resolution              \u001b[1;36m1.0\u001b[0m\n",
       "number_of_satisfactory_trades               \u001b[1;36m1.0\u001b[0m\n",
       "nr_trades_insolvent_for_over_60_days        \u001b[1;36m1.0\u001b[0m\n",
       "nr_trades_insolvent_for_over_90_days        \u001b[1;36m1.0\u001b[0m\n",
       "percentage_of_legal_trades                  \u001b[1;36m1.0\u001b[0m\n",
       "months_since_last_illegal_trade             \u001b[1;36m1.0\u001b[0m\n",
       "maximum_illegal_trades_over_last_year       \u001b[1;36m1.0\u001b[0m\n",
       "maximum_illegal_trades                      \u001b[1;36m1.0\u001b[0m\n",
       "nr_total_trades                             \u001b[1;36m1.0\u001b[0m\n",
       "nr_trades_initiated_in_last_year            \u001b[1;36m1.0\u001b[0m\n",
       "percentage_of_installment_trades            \u001b[1;36m1.0\u001b[0m\n",
       "months_since_last_inquiry_not_recent        \u001b[1;36m1.0\u001b[0m\n",
       "nr_inquiries_in_last_6_months               \u001b[1;36m1.0\u001b[0m\n",
       "nr_inquiries_in_last_6_months_not_recent    \u001b[1;36m1.0\u001b[0m\n",
       "net_fraction_of_revolving_burden            \u001b[1;36m1.0\u001b[0m\n",
       "net_fraction_of_installment_burden          \u001b[1;36m1.0\u001b[0m\n",
       "nr_revolving_trades_with_balance            \u001b[1;36m1.0\u001b[0m\n",
       "nr_installment_trades_with_balance          \u001b[1;36m1.0\u001b[0m\n",
       "nr_banks_with_high_ratio                    \u001b[1;36m1.0\u001b[0m\n",
       "percentage_trades_with_balance              \u001b[1;36m1.0\u001b[0m\n",
       "dtype: float64"
      ]
     },
     "execution_count": 7,
     "metadata": {},
     "output_type": "execute_result"
    }
   ],
   "source": [
    "np.isfinite(df).sum(axis=0) / df.shape[0]"
   ]
  },
  {
   "cell_type": "code",
   "execution_count": 8,
   "metadata": {},
   "outputs": [],
   "source": [
    "df[\"ratio_trades_last_year_to_total\"]    = np.log10(0.01 + (df[\"nr_trades_initiated_in_last_year\"] / (1 + df[\"nr_total_trades\"])))\n",
    "df[\"ratio_revolving_trades_to_total\"]    = np.log10(0.01 + (df[\"nr_revolving_trades_with_balance\"] / (1 + df[\"nr_total_trades\"])))\n",
    "df[\"ratio_installment_trades_to_total\"]  = np.log10(0.01 + (df[\"nr_installment_trades_with_balance\"] / (1 + df[\"nr_total_trades\"])))\n",
    "df[\"ratio_satisfactory_trades_to_total\"] = np.log10(0.01 + (df[\"number_of_satisfactory_trades\"] / (1 + df[\"nr_total_trades\"])))\n",
    "df[\"ratio_installment_to_revolving\"]     = np.log10(0.01 + (df[\"net_fraction_of_installment_burden\"] / (1 + df[\"net_fraction_of_revolving_burden\"])))\n"
   ]
  },
  {
   "cell_type": "code",
   "execution_count": 9,
   "metadata": {},
   "outputs": [
    {
     "data": {
      "application/vnd.jupyter.widget-view+json": {
       "model_id": "9bafe2c2cb814a51acf16836c86e5dc5",
       "version_major": 2,
       "version_minor": 0
      },
      "text/plain": [
       "interactive(children=(Dropdown(description='feature', options=('months_since_first_trade', 'months_since_last_…"
      ]
     },
     "metadata": {},
     "output_type": "display_data"
    }
   ],
   "source": [
    "@interact(feature=df.columns)\n",
    "def feature_histogram(feature):\n",
    "    sns.histplot(df[feature], kde=True, bins=30)\n",
    "    plt.show()"
   ]
  },
  {
   "cell_type": "markdown",
   "metadata": {},
   "source": [
    "# Baseline models"
   ]
  },
  {
   "cell_type": "code",
   "execution_count": 10,
   "metadata": {},
   "outputs": [
    {
     "name": "stdout",
     "output_type": "stream",
     "text": [
      "0.7730\n"
     ]
    },
    {
     "data": {
      "text/html": [
       "<pre style=\"white-space:pre;overflow-x:auto;line-height:normal;font-family:Menlo,'DejaVu Sans Mono',consolas,'Courier New',monospace\"></pre>\n"
      ],
      "text/plain": []
     },
     "metadata": {},
     "output_type": "display_data"
    },
    {
     "data": {
      "image/png": "[encoded data removed]",
      "text/plain": [
       "\u001b[1m<\u001b[0m\u001b[1;95mFigure\u001b[0m\u001b[39m size 80\u001b[0m\u001b[1;36m0x500\u001b[0m\u001b[39m with \u001b[0m\u001b[1;36m1\u001b[0m\u001b[39m Axes\u001b[0m\u001b[1m>\u001b[0m"
      ]
     },
     "metadata": {},
     "output_type": "display_data"
    }
   ],
   "source": [
    "lm = LogisticRegression()\n",
    "X = StandardScaler().fit_transform(df)\n",
    "print(f\"{cross_validate(lm, X, y, cv=5, scoring=\"roc_auc\")[\"test_score\"].mean():.4f}\")\n",
    "lm = lm.fit(X, y)\n",
    "y_pred = lm.predict_proba(X)[:, 1]\n",
    "\n",
    "importances = np.abs(lm.coef_[0])\n",
    "indices = np.argsort(importances)[-10:][::-1]\n",
    "top_features = df.columns[indices]\n",
    "\n",
    "plt.figure(figsize=(8, 5))\n",
    "plt.barh(top_features, importances[indices])\n",
    "plt.xlabel('Importance')\n",
    "plt.title('Top 10 Features by Importance')\n",
    "plt.gca().invert_yaxis()\n",
    "plt.show()\n",
    "plt.close()"
   ]
  },
  {
   "cell_type": "code",
   "execution_count": 11,
   "metadata": {},
   "outputs": [
    {
     "name": "stdout",
     "output_type": "stream",
     "text": [
      "0.7718\n"
     ]
    },
    {
     "data": {
      "text/html": [
       "<!-- http://127.0.0.1:7001/134475342952592/ -->\n",
       "<iframe src=\"http://127.0.0.1:7001/134475342952592/\" width=100% height=800 frameBorder=\"0\"></iframe>"
      ]
     },
     "metadata": {},
     "output_type": "display_data"
    }
   ],
   "source": [
    "ebm = ExplainableBoostingClassifier(interactions=10, greedy_ratio=0)\n",
    "print(f\"{cross_validate(ebm, df, y, cv=5, scoring=\"roc_auc\", n_jobs=5)[\"test_score\"].mean():.4f}\")\n",
    "ebm.fit(df, y)\n",
    "ebm_global = ebm.explain_global()\n",
    "show(ebm_global)"
   ]
  },
  {
   "cell_type": "code",
   "execution_count": null,
   "metadata": {},
   "outputs": [],
   "source": [
    "df.to_parquet(\"heloc.parquet\")\n",
    "y.tofile(\"heloc_y.npy\")"
   ]
  },
  {
   "cell_type": "code",
   "execution_count": null,
   "metadata": {},
   "outputs": [],
   "source": []
  }
 ],
 "metadata": {
  "kernelspec": {
   "display_name": "model_workshop",
   "language": "python",
   "name": "python3"
  },
  "language_info": {
   "codemirror_mode": {
    "name": "ipython",
    "version": 3
   },
   "file_extension": ".py",
   "mimetype": "text/x-python",
   "name": "python",
   "nbconvert_exporter": "python",
   "pygments_lexer": "ipython3",
   "version": "3.12.7"
  }
 },
 "nbformat": 4,
 "nbformat_minor": 2
}
