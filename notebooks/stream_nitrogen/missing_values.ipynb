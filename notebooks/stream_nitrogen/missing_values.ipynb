{
 "cells": [
  {
   "cell_type": "markdown",
   "metadata": {},
   "source": [
    "# Compare missing value imputation methods\n",
    "\n",
    "on just one target"
   ]
  },
  {
   "cell_type": "code",
   "execution_count": 7,
   "metadata": {},
   "outputs": [
    {
     "name": "stdout",
     "output_type": "stream",
     "text": [
      "The rich extension is already loaded. To reload it, use:\n",
      "  %reload_ext rich\n"
     ]
    }
   ],
   "source": [
    "%load_ext rich\n",
    "\n",
    "import pathlib\n",
    "import numpy as np\n",
    "import pandas as pd\n",
    "\n",
    "from sklearn.ensemble import ExtraTreesRegressor\n",
    "from sklearn.model_selection import cross_validate\n",
    "from sklearn.metrics import mean_absolute_error as mae, make_scorer\n",
    "\n",
    "import seaborn as sns\n",
    "import matplotlib.pyplot as plt\n",
    "\n",
    "from collections.abc import Callable\n",
    "\n",
    "sns.set_context(\"notebook\")\n",
    "sns.set_palette(\"colorblind\")"
   ]
  },
  {
   "cell_type": "code",
   "execution_count": 2,
   "metadata": {},
   "outputs": [],
   "source": [
    "basedir = pathlib.Path.home() / \"data\" / \"available_datasets\"\n",
    "df_stream = pd.read_csv(basedir / \"stream_nitrogen\" / \"SINC_input_data_EDI.csv\")"
   ]
  },
  {
   "cell_type": "code",
   "execution_count": 3,
   "metadata": {},
   "outputs": [
    {
     "data": {
      "text/html": [
       "<pre style=\"white-space:pre;overflow-x:auto;line-height:normal;font-family:Menlo,'DejaVu Sans Mono',consolas,'Courier New',monospace\"></pre>\n"
      ],
      "text/plain": []
     },
     "metadata": {},
     "output_type": "display_data"
    },
    {
     "data": {
      "text/html": [
       "<div>\n",
       "<style scoped>\n",
       "    .dataframe tbody tr th:only-of-type {\n",
       "        vertical-align: middle;\n",
       "    }\n",
       "\n",
       "    .dataframe tbody tr th {\n",
       "        vertical-align: top;\n",
       "    }\n",
       "\n",
       "    .dataframe thead th {\n",
       "        text-align: right;\n",
       "    }\n",
       "</style>\n",
       "<table border=\"1\" class=\"dataframe\">\n",
       "  <thead>\n",
       "    <tr style=\"text-align: right;\">\n",
       "      <th></th>\n",
       "      <th>Site</th>\n",
       "      <th>Datetime</th>\n",
       "      <th>Sample_Type</th>\n",
       "      <th>TP</th>\n",
       "      <th>TSP</th>\n",
       "      <th>SRP</th>\n",
       "      <th>TN</th>\n",
       "      <th>NO3</th>\n",
       "      <th>NH4</th>\n",
       "      <th>PP</th>\n",
       "      <th>...</th>\n",
       "      <th>EXO_fDOM_120h_lag</th>\n",
       "      <th>Press_kpa_120h_lag</th>\n",
       "      <th>SoilMoisture_120h_lag</th>\n",
       "      <th>EXO_SpCond_120delta</th>\n",
       "      <th>EXO_Temp_120delta</th>\n",
       "      <th>EXO_Turb_120delta</th>\n",
       "      <th>EXO_pH_120delta</th>\n",
       "      <th>EXO_fDOM_120delta</th>\n",
       "      <th>Press_kpa_120delta</th>\n",
       "      <th>SoilMoisture_120delta</th>\n",
       "    </tr>\n",
       "  </thead>\n",
       "  <tbody>\n",
       "    <tr>\n",
       "      <th>0</th>\n",
       "      <td>TS_East</td>\n",
       "      <td>2018-01-22 16:35:00</td>\n",
       "      <td>Baseflow</td>\n",
       "      <td>5.6920</td>\n",
       "      <td>3.5179</td>\n",
       "      <td>2.7809</td>\n",
       "      <td>0.5512</td>\n",
       "      <td>0.552</td>\n",
       "      <td>0.0050</td>\n",
       "      <td>2.1741</td>\n",
       "      <td>...</td>\n",
       "      <td>NaN</td>\n",
       "      <td>NaN</td>\n",
       "      <td>0.1115</td>\n",
       "      <td>NaN</td>\n",
       "      <td>NaN</td>\n",
       "      <td>NaN</td>\n",
       "      <td>NaN</td>\n",
       "      <td>NaN</td>\n",
       "      <td>NaN</td>\n",
       "      <td>0.0125</td>\n",
       "    </tr>\n",
       "    <tr>\n",
       "      <th>1</th>\n",
       "      <td>TS_East</td>\n",
       "      <td>2018-02-28 15:10:00</td>\n",
       "      <td>Baseflow</td>\n",
       "      <td>7.0481</td>\n",
       "      <td>3.1527</td>\n",
       "      <td>1.9507</td>\n",
       "      <td>0.3439</td>\n",
       "      <td>0.362</td>\n",
       "      <td>0.0185</td>\n",
       "      <td>3.8954</td>\n",
       "      <td>...</td>\n",
       "      <td>4.988937</td>\n",
       "      <td>NaN</td>\n",
       "      <td>0.1350</td>\n",
       "      <td>24.75075</td>\n",
       "      <td>1.31850</td>\n",
       "      <td>-0.76750</td>\n",
       "      <td>0.01000</td>\n",
       "      <td>-0.233648</td>\n",
       "      <td>NaN</td>\n",
       "      <td>0.0080</td>\n",
       "    </tr>\n",
       "    <tr>\n",
       "      <th>2</th>\n",
       "      <td>TS_East</td>\n",
       "      <td>2018-03-20 14:10:00</td>\n",
       "      <td>Baseflow</td>\n",
       "      <td>12.4426</td>\n",
       "      <td>2.7000</td>\n",
       "      <td>0.5000</td>\n",
       "      <td>0.6172</td>\n",
       "      <td>0.587</td>\n",
       "      <td>0.0050</td>\n",
       "      <td>9.7426</td>\n",
       "      <td>...</td>\n",
       "      <td>3.308868</td>\n",
       "      <td>2.04100</td>\n",
       "      <td>0.1220</td>\n",
       "      <td>61.96175</td>\n",
       "      <td>-2.02375</td>\n",
       "      <td>-1.65325</td>\n",
       "      <td>0.02150</td>\n",
       "      <td>-0.647593</td>\n",
       "      <td>-0.2125</td>\n",
       "      <td>0.0045</td>\n",
       "    </tr>\n",
       "    <tr>\n",
       "      <th>3</th>\n",
       "      <td>TS_East</td>\n",
       "      <td>2018-04-04 14:00:00</td>\n",
       "      <td>Storm Event</td>\n",
       "      <td>10.8230</td>\n",
       "      <td>3.2835</td>\n",
       "      <td>1.4783</td>\n",
       "      <td>0.4033</td>\n",
       "      <td>0.248</td>\n",
       "      <td>0.0050</td>\n",
       "      <td>7.5395</td>\n",
       "      <td>...</td>\n",
       "      <td>11.785599</td>\n",
       "      <td>3.18525</td>\n",
       "      <td>0.1280</td>\n",
       "      <td>83.58150</td>\n",
       "      <td>0.60375</td>\n",
       "      <td>-8.77200</td>\n",
       "      <td>0.09775</td>\n",
       "      <td>-2.180811</td>\n",
       "      <td>-0.8195</td>\n",
       "      <td>-0.0200</td>\n",
       "    </tr>\n",
       "    <tr>\n",
       "      <th>4</th>\n",
       "      <td>TS_East</td>\n",
       "      <td>2018-04-04 18:00:00</td>\n",
       "      <td>Storm Event</td>\n",
       "      <td>30.3826</td>\n",
       "      <td>4.7192</td>\n",
       "      <td>2.0857</td>\n",
       "      <td>0.4653</td>\n",
       "      <td>0.195</td>\n",
       "      <td>0.0050</td>\n",
       "      <td>25.6634</td>\n",
       "      <td>...</td>\n",
       "      <td>11.587968</td>\n",
       "      <td>3.25025</td>\n",
       "      <td>0.1245</td>\n",
       "      <td>47.61350</td>\n",
       "      <td>0.35300</td>\n",
       "      <td>1.25850</td>\n",
       "      <td>0.02350</td>\n",
       "      <td>0.785274</td>\n",
       "      <td>-0.1790</td>\n",
       "      <td>-0.0025</td>\n",
       "    </tr>\n",
       "  </tbody>\n",
       "</table>\n",
       "<p>5 rows × 73 columns</p>\n",
       "</div>"
      ],
      "text/plain": [
       "\n",
       "      Site             Datetime  Sample_Type       TP     TSP     SRP      TN  \\\n",
       "\u001b[1;36m0\u001b[0m  TS_East  \u001b[1;36m2018\u001b[0m-\u001b[1;36m01\u001b[0m-\u001b[1;36m22\u001b[0m \u001b[1;92m16:35:00\u001b[0m     Baseflow   \u001b[1;36m5.6920\u001b[0m  \u001b[1;36m3.5179\u001b[0m  \u001b[1;36m2.7809\u001b[0m  \u001b[1;36m0.5512\u001b[0m   \n",
       "\u001b[1;36m1\u001b[0m  TS_East  \u001b[1;36m2018\u001b[0m-\u001b[1;36m02\u001b[0m-\u001b[1;36m28\u001b[0m \u001b[1;92m15:10:00\u001b[0m     Baseflow   \u001b[1;36m7.0481\u001b[0m  \u001b[1;36m3.1527\u001b[0m  \u001b[1;36m1.9507\u001b[0m  \u001b[1;36m0.3439\u001b[0m   \n",
       "\u001b[1;36m2\u001b[0m  TS_East  \u001b[1;36m2018\u001b[0m-\u001b[1;36m03\u001b[0m-\u001b[1;36m20\u001b[0m \u001b[1;92m14:10:00\u001b[0m     Baseflow  \u001b[1;36m12.4426\u001b[0m  \u001b[1;36m2.7000\u001b[0m  \u001b[1;36m0.5000\u001b[0m  \u001b[1;36m0.6172\u001b[0m   \n",
       "\u001b[1;36m3\u001b[0m  TS_East  \u001b[1;36m2018\u001b[0m-\u001b[1;36m04\u001b[0m-\u001b[1;36m04\u001b[0m \u001b[1;92m14:00:00\u001b[0m  Storm Event  \u001b[1;36m10.8230\u001b[0m  \u001b[1;36m3.2835\u001b[0m  \u001b[1;36m1.4783\u001b[0m  \u001b[1;36m0.4033\u001b[0m   \n",
       "\u001b[1;36m4\u001b[0m  TS_East  \u001b[1;36m2018\u001b[0m-\u001b[1;36m04\u001b[0m-\u001b[1;36m04\u001b[0m \u001b[1;92m18:00:00\u001b[0m  Storm Event  \u001b[1;36m30.3826\u001b[0m  \u001b[1;36m4.7192\u001b[0m  \u001b[1;36m2.0857\u001b[0m  \u001b[1;36m0.4653\u001b[0m   \n",
       "\n",
       "     NO3     NH4       PP  \u001b[33m...\u001b[0m  EXO_fDOM_120h_lag  Press_kpa_120h_lag  \\\n",
       "\u001b[1;36m0\u001b[0m  \u001b[1;36m0.552\u001b[0m  \u001b[1;36m0.0050\u001b[0m   \u001b[1;36m2.1741\u001b[0m  \u001b[33m...\u001b[0m                NaN                 NaN   \n",
       "\u001b[1;36m1\u001b[0m  \u001b[1;36m0.362\u001b[0m  \u001b[1;36m0.0185\u001b[0m   \u001b[1;36m3.8954\u001b[0m  \u001b[33m...\u001b[0m           \u001b[1;36m4.988937\u001b[0m                 NaN   \n",
       "\u001b[1;36m2\u001b[0m  \u001b[1;36m0.587\u001b[0m  \u001b[1;36m0.0050\u001b[0m   \u001b[1;36m9.7426\u001b[0m  \u001b[33m...\u001b[0m           \u001b[1;36m3.308868\u001b[0m             \u001b[1;36m2.04100\u001b[0m   \n",
       "\u001b[1;36m3\u001b[0m  \u001b[1;36m0.248\u001b[0m  \u001b[1;36m0.0050\u001b[0m   \u001b[1;36m7.5395\u001b[0m  \u001b[33m...\u001b[0m          \u001b[1;36m11.785599\u001b[0m             \u001b[1;36m3.18525\u001b[0m   \n",
       "\u001b[1;36m4\u001b[0m  \u001b[1;36m0.195\u001b[0m  \u001b[1;36m0.0050\u001b[0m  \u001b[1;36m25.6634\u001b[0m  \u001b[33m...\u001b[0m          \u001b[1;36m11.587968\u001b[0m             \u001b[1;36m3.25025\u001b[0m   \n",
       "\n",
       "   SoilMoisture_120h_lag  EXO_SpCond_120delta  EXO_Temp_120delta  \\\n",
       "\u001b[1;36m0\u001b[0m                 \u001b[1;36m0.1115\u001b[0m                  NaN                NaN   \n",
       "\u001b[1;36m1\u001b[0m                 \u001b[1;36m0.1350\u001b[0m             \u001b[1;36m24.75075\u001b[0m            \u001b[1;36m1.31850\u001b[0m   \n",
       "\u001b[1;36m2\u001b[0m                 \u001b[1;36m0.1220\u001b[0m             \u001b[1;36m61.96175\u001b[0m           \u001b[1;36m-2.02375\u001b[0m   \n",
       "\u001b[1;36m3\u001b[0m                 \u001b[1;36m0.1280\u001b[0m             \u001b[1;36m83.58150\u001b[0m            \u001b[1;36m0.60375\u001b[0m   \n",
       "\u001b[1;36m4\u001b[0m                 \u001b[1;36m0.1245\u001b[0m             \u001b[1;36m47.61350\u001b[0m            \u001b[1;36m0.35300\u001b[0m   \n",
       "\n",
       "   EXO_Turb_120delta  EXO_pH_120delta  EXO_fDOM_120delta  Press_kpa_120delta  \\\n",
       "\u001b[1;36m0\u001b[0m                NaN              NaN                NaN                 NaN   \n",
       "\u001b[1;36m1\u001b[0m           \u001b[1;36m-0.76750\u001b[0m          \u001b[1;36m0.01000\u001b[0m          \u001b[1;36m-0.233648\u001b[0m                 NaN   \n",
       "\u001b[1;36m2\u001b[0m           \u001b[1;36m-1.65325\u001b[0m          \u001b[1;36m0.02150\u001b[0m          \u001b[1;36m-0.647593\u001b[0m             \u001b[1;36m-0.2125\u001b[0m   \n",
       "\u001b[1;36m3\u001b[0m           \u001b[1;36m-8.77200\u001b[0m          \u001b[1;36m0.09775\u001b[0m          \u001b[1;36m-2.180811\u001b[0m             \u001b[1;36m-0.8195\u001b[0m   \n",
       "\u001b[1;36m4\u001b[0m            \u001b[1;36m1.25850\u001b[0m          \u001b[1;36m0.02350\u001b[0m           \u001b[1;36m0.785274\u001b[0m             \u001b[1;36m-0.1790\u001b[0m   \n",
       "\n",
       "   SoilMoisture_120delta  \n",
       "\u001b[1;36m0\u001b[0m                 \u001b[1;36m0.0125\u001b[0m  \n",
       "\u001b[1;36m1\u001b[0m                 \u001b[1;36m0.0080\u001b[0m  \n",
       "\u001b[1;36m2\u001b[0m                 \u001b[1;36m0.0045\u001b[0m  \n",
       "\u001b[1;36m3\u001b[0m                \u001b[1;36m-0.0200\u001b[0m  \n",
       "\u001b[1;36m4\u001b[0m                \u001b[1;36m-0.0025\u001b[0m  \n",
       "\n",
       "\u001b[1m[\u001b[0m\u001b[1;36m5\u001b[0m rows x \u001b[1;36m73\u001b[0m columns\u001b[1m]\u001b[0m"
      ]
     },
     "execution_count": 3,
     "metadata": {},
     "output_type": "execute_result"
    }
   ],
   "source": [
    "df_stream.head()"
   ]
  },
  {
   "cell_type": "code",
   "execution_count": 4,
   "metadata": {},
   "outputs": [
    {
     "data": {
      "text/html": [
       "<pre style=\"white-space:pre;overflow-x:auto;line-height:normal;font-family:Menlo,'DejaVu Sans Mono',consolas,'Courier New',monospace\"></pre>\n"
      ],
      "text/plain": []
     },
     "metadata": {},
     "output_type": "display_data"
    },
    {
     "data": {
      "text/plain": [
       "\u001b[1m(\u001b[0m\u001b[1;36m680\u001b[0m, \u001b[1;36m65\u001b[0m\u001b[1m)\u001b[0m"
      ]
     },
     "execution_count": 4,
     "metadata": {},
     "output_type": "execute_result"
    }
   ],
   "source": [
    "df_stream[\"hour_of_day\"] = df_stream[\"Datetime\"].apply(lambda x: x.split(\":\")[0][-2:]).astype(float)\n",
    "df_stream[\"month\"] = df_stream[\"Datetime\"].apply(lambda x: x.split(\"-\")[1]).astype(float)\n",
    "event = df_stream[\"Sample_Type\"].values\n",
    "for col in [\"Site\", \"Datetime\", \"Sample_Type\"]:\n",
    "    df_stream.drop(col, axis=1, inplace=True)\n",
    "target_cols = [\"TP\", \"TSP\", \"SRP\", \"TN\", \"NO3\", \"NH4\", \"PP\"]\n",
    "targets = df_stream[target_cols].copy()\n",
    "for col in target_cols:\n",
    "    df_stream.drop(col, axis=1, inplace=True)\n",
    "df_stream.shape"
   ]
  },
  {
   "cell_type": "code",
   "execution_count": 5,
   "metadata": {},
   "outputs": [
    {
     "data": {
      "text/html": [
       "<pre style=\"white-space:pre;overflow-x:auto;line-height:normal;font-family:Menlo,'DejaVu Sans Mono',consolas,'Courier New',monospace\"></pre>\n"
      ],
      "text/plain": []
     },
     "metadata": {},
     "output_type": "display_data"
    },
    {
     "data": {
      "text/plain": [
       "\n",
       "TP     \u001b[1;36m0\u001b[0m\n",
       "TSP    \u001b[1;36m0\u001b[0m\n",
       "SRP    \u001b[1;36m0\u001b[0m\n",
       "TN     \u001b[1;36m0\u001b[0m\n",
       "NO3    \u001b[1;36m0\u001b[0m\n",
       "NH4    \u001b[1;36m0\u001b[0m\n",
       "PP     \u001b[1;36m0\u001b[0m\n",
       "dtype: int64"
      ]
     },
     "execution_count": 5,
     "metadata": {},
     "output_type": "execute_result"
    }
   ],
   "source": [
    "targets.isna().sum()"
   ]
  },
  {
   "cell_type": "code",
   "execution_count": 6,
   "metadata": {},
   "outputs": [
    {
     "data": {
      "text/html": [
       "<pre style=\"white-space:pre;overflow-x:auto;line-height:normal;font-family:Menlo,'DejaVu Sans Mono',consolas,'Courier New',monospace\"></pre>\n"
      ],
      "text/plain": []
     },
     "metadata": {},
     "output_type": "display_data"
    },
    {
     "data": {
      "text/plain": [
       "\n",
       "EXO_fDOM_120delta        \u001b[1;36m275\u001b[0m\n",
       "EXO_Turb_120delta        \u001b[1;36m274\u001b[0m\n",
       "SoilMoisture_120delta    \u001b[1;36m273\u001b[0m\n",
       "EXO_pH_120delta          \u001b[1;36m269\u001b[0m\n",
       "EXO_Temp_120delta        \u001b[1;36m268\u001b[0m\n",
       "                        \u001b[33m...\u001b[0m \n",
       "Press_kpa_5h_lag         \u001b[1;36m169\u001b[0m\n",
       "Press_kpa_120h_lag       \u001b[1;36m166\u001b[0m\n",
       "Press_kpa_24h_lag        \u001b[1;36m162\u001b[0m\n",
       "hour_of_day                \u001b[1;36m0\u001b[0m\n",
       "month                      \u001b[1;36m0\u001b[0m\n",
       "Length: \u001b[1;36m65\u001b[0m, dtype: int64"
      ]
     },
     "execution_count": 6,
     "metadata": {},
     "output_type": "execute_result"
    }
   ],
   "source": [
    "df_stream.isna().sum().sort_values(ascending=False)"
   ]
  },
  {
   "cell_type": "code",
   "execution_count": 19,
   "metadata": {},
   "outputs": [],
   "source": [
    "def evaluate_approach(f_impute: Callable) -> pd.DataFrame:\n",
    "    X = f_impute(df_stream.copy())\n",
    "    model = ExtraTreesRegressor(n_estimators=75, max_depth=7, n_jobs=-1)\n",
    "    cv_results = cross_validate(model, X, targets, cv=5, scoring=make_scorer(mae))\n",
    "    return np.mean(cv_results[\"test_score\"])"
   ]
  },
  {
   "cell_type": "code",
   "execution_count": 20,
   "metadata": {},
   "outputs": [],
   "source": [
    "imputation_scores = {}\n",
    "# Baseline: Median imputation and Mean impute\n",
    "def f_median_impute(df: pd.DataFrame) -> pd.DataFrame:\n",
    "    fill_values = {}\n",
    "    for col in df.columns:\n",
    "        if df[col].isna().sum() > 0:\n",
    "            fill_values[col] = np.nanmedian(df[col])\n",
    "    return df.fillna(fill_values)\n",
    "def f_mean_impute(df: pd.DataFrame) -> pd.DataFrame:\n",
    "    fill_values = {}\n",
    "    for col in df.columns:\n",
    "        if df[col].isna().sum() > 0:\n",
    "            fill_values[col] = np.nanmean(df[col])\n",
    "    return df.fillna(fill_values)\n",
    "\n"
   ]
  },
  {
   "cell_type": "code",
   "execution_count": 21,
   "metadata": {},
   "outputs": [
    {
     "name": "stderr",
     "output_type": "stream",
     "text": [
      "/tmp/ipykernel_2046847/1913965368.py:6: FutureWarning: A value is trying to be set on a copy of a DataFrame or Series through chained assignment using an inplace method.\n",
      "The behavior will change in pandas 3.0. This inplace method will never work because the intermediate object on which we are setting values always behaves as a copy.\n",
      "\n",
      "For example, when doing 'df[col].method(value, inplace=True)', try using 'df.method({col: value}, inplace=True)' or df[col] = df[col].method(value) instead, to perform the operation inplace on the original object.\n",
      "\n",
      "\n",
      "  df[col].fillna(np.nanmedian(df[col]), inplace=True)\n",
      "/tmp/ipykernel_2046847/1913965368.py:12: FutureWarning: A value is trying to be set on a copy of a DataFrame or Series through chained assignment using an inplace method.\n",
      "The behavior will change in pandas 3.0. This inplace method will never work because the intermediate object on which we are setting values always behaves as a copy.\n",
      "\n",
      "For example, when doing 'df[col].method(value, inplace=True)', try using 'df.method({col: value}, inplace=True)' or df[col] = df[col].method(value) instead, to perform the operation inplace on the original object.\n",
      "\n",
      "\n",
      "  df[col].fillna(np.nanmean(df[col]), inplace=True)\n"
     ]
    }
   ],
   "source": [
    "for func in [f_median_impute, f_mean_impute]:\n",
    "    imputation_scores[func.__name__] = evaluate_approach(func)"
   ]
  },
  {
   "cell_type": "code",
   "execution_count": null,
   "metadata": {},
   "outputs": [],
   "source": []
  }
 ],
 "metadata": {
  "kernelspec": {
   "display_name": "model_citizen",
   "language": "python",
   "name": "python3"
  },
  "language_info": {
   "codemirror_mode": {
    "name": "ipython",
    "version": 3
   },
   "file_extension": ".py",
   "mimetype": "text/x-python",
   "name": "python",
   "nbconvert_exporter": "python",
   "pygments_lexer": "ipython3",
   "version": "3.12.7"
  }
 },
 "nbformat": 4,
 "nbformat_minor": 2
}
