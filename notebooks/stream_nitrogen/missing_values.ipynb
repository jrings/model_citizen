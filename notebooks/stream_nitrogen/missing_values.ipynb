{
 "cells": [
  {
   "cell_type": "markdown",
   "metadata": {},
   "source": [
    "# Compare missing value imputation methods\n",
    "\n",
    "on just one target"
   ]
  },
  {
   "cell_type": "code",
   "execution_count": 1,
   "metadata": {},
   "outputs": [],
   "source": [
    "%load_ext rich\n",
    "\n",
    "import pathlib\n",
    "import numpy as np\n",
    "import pandas as pd\n",
    "from tqdm.notebook import tqdm\n",
    "\n",
    "from sklearn.ensemble import ExtraTreesRegressor\n",
    "from sklearn.model_selection import cross_validate\n",
    "from sklearn.metrics import mean_absolute_error as mae, make_scorer\n",
    "\n",
    "import seaborn as sns\n",
    "import matplotlib.pyplot as plt\n",
    "\n",
    "from collections.abc import Callable\n",
    "\n",
    "from sklearn.experimental import enable_iterative_imputer\n",
    "from sklearn.impute import KNNImputer, IterativeImputer\n",
    "\n",
    "sns.set_context(\"notebook\")\n",
    "sns.set_palette(\"colorblind\")"
   ]
  },
  {
   "cell_type": "code",
   "execution_count": 2,
   "metadata": {},
   "outputs": [],
   "source": [
    "basedir = pathlib.Path.home() / \"data\" / \"available_datasets\"\n",
    "df_stream = pd.read_csv(basedir / \"stream_nitrogen\" / \"SINC_input_data_EDI.csv\")\n",
    "df_stream = df_stream[list(sorted(df_stream.columns))]"
   ]
  },
  {
   "cell_type": "code",
   "execution_count": 3,
   "metadata": {},
   "outputs": [
    {
     "data": {
      "text/html": [
       "<pre style=\"white-space:pre;overflow-x:auto;line-height:normal;font-family:Menlo,'DejaVu Sans Mono',consolas,'Courier New',monospace\"></pre>\n"
      ],
      "text/plain": []
     },
     "metadata": {},
     "output_type": "display_data"
    },
    {
     "data": {
      "text/html": [
       "<div>\n",
       "<style scoped>\n",
       "    .dataframe tbody tr th:only-of-type {\n",
       "        vertical-align: middle;\n",
       "    }\n",
       "\n",
       "    .dataframe tbody tr th {\n",
       "        vertical-align: top;\n",
       "    }\n",
       "\n",
       "    .dataframe thead th {\n",
       "        text-align: right;\n",
       "    }\n",
       "</style>\n",
       "<table border=\"1\" class=\"dataframe\">\n",
       "  <thead>\n",
       "    <tr style=\"text-align: right;\">\n",
       "      <th></th>\n",
       "      <th>Datetime</th>\n",
       "      <th>EXO_SpCond_120delta</th>\n",
       "      <th>EXO_SpCond_120h_lag</th>\n",
       "      <th>EXO_SpCond_1delta</th>\n",
       "      <th>EXO_SpCond_1h_lag</th>\n",
       "      <th>EXO_SpCond_1h_median</th>\n",
       "      <th>EXO_SpCond_24delta</th>\n",
       "      <th>EXO_SpCond_24h_lag</th>\n",
       "      <th>EXO_SpCond_5delta</th>\n",
       "      <th>EXO_SpCond_5h_lag</th>\n",
       "      <th>...</th>\n",
       "      <th>SoilMoisture_1delta</th>\n",
       "      <th>SoilMoisture_1h_lag</th>\n",
       "      <th>SoilMoisture_1h_median</th>\n",
       "      <th>SoilMoisture_24delta</th>\n",
       "      <th>SoilMoisture_24h_lag</th>\n",
       "      <th>SoilMoisture_5delta</th>\n",
       "      <th>SoilMoisture_5h_lag</th>\n",
       "      <th>TN</th>\n",
       "      <th>TP</th>\n",
       "      <th>TSP</th>\n",
       "    </tr>\n",
       "  </thead>\n",
       "  <tbody>\n",
       "    <tr>\n",
       "      <th>0</th>\n",
       "      <td>2018-01-22 16:35:00</td>\n",
       "      <td>NaN</td>\n",
       "      <td>NaN</td>\n",
       "      <td>NaN</td>\n",
       "      <td>NaN</td>\n",
       "      <td>NaN</td>\n",
       "      <td>NaN</td>\n",
       "      <td>NaN</td>\n",
       "      <td>NaN</td>\n",
       "      <td>NaN</td>\n",
       "      <td>...</td>\n",
       "      <td>0.0010</td>\n",
       "      <td>0.1230</td>\n",
       "      <td>0.1240</td>\n",
       "      <td>0.0250</td>\n",
       "      <td>0.0990</td>\n",
       "      <td>0.004</td>\n",
       "      <td>0.1200</td>\n",
       "      <td>0.5512</td>\n",
       "      <td>5.6920</td>\n",
       "      <td>3.5179</td>\n",
       "    </tr>\n",
       "    <tr>\n",
       "      <th>1</th>\n",
       "      <td>2018-02-28 15:10:00</td>\n",
       "      <td>24.75075</td>\n",
       "      <td>277.89350</td>\n",
       "      <td>1.01275</td>\n",
       "      <td>301.63150</td>\n",
       "      <td>302.64425</td>\n",
       "      <td>16.33200</td>\n",
       "      <td>286.31225</td>\n",
       "      <td>4.49050</td>\n",
       "      <td>298.15375</td>\n",
       "      <td>...</td>\n",
       "      <td>0.0000</td>\n",
       "      <td>0.1430</td>\n",
       "      <td>0.1430</td>\n",
       "      <td>-0.0045</td>\n",
       "      <td>0.1475</td>\n",
       "      <td>0.000</td>\n",
       "      <td>0.1430</td>\n",
       "      <td>0.3439</td>\n",
       "      <td>7.0481</td>\n",
       "      <td>3.1527</td>\n",
       "    </tr>\n",
       "    <tr>\n",
       "      <th>2</th>\n",
       "      <td>2018-03-20 14:10:00</td>\n",
       "      <td>61.96175</td>\n",
       "      <td>392.43450</td>\n",
       "      <td>1.50075</td>\n",
       "      <td>452.89550</td>\n",
       "      <td>454.39625</td>\n",
       "      <td>-2.05325</td>\n",
       "      <td>456.44950</td>\n",
       "      <td>21.43975</td>\n",
       "      <td>432.95650</td>\n",
       "      <td>...</td>\n",
       "      <td>0.0005</td>\n",
       "      <td>0.1260</td>\n",
       "      <td>0.1265</td>\n",
       "      <td>-0.0045</td>\n",
       "      <td>0.1310</td>\n",
       "      <td>-0.001</td>\n",
       "      <td>0.1275</td>\n",
       "      <td>0.6172</td>\n",
       "      <td>12.4426</td>\n",
       "      <td>2.7000</td>\n",
       "    </tr>\n",
       "    <tr>\n",
       "      <th>3</th>\n",
       "      <td>2018-04-04 14:00:00</td>\n",
       "      <td>83.58150</td>\n",
       "      <td>173.80875</td>\n",
       "      <td>-5.91025</td>\n",
       "      <td>263.30050</td>\n",
       "      <td>257.39025</td>\n",
       "      <td>-33.04675</td>\n",
       "      <td>290.43700</td>\n",
       "      <td>-25.54325</td>\n",
       "      <td>282.93350</td>\n",
       "      <td>...</td>\n",
       "      <td>0.0010</td>\n",
       "      <td>0.1070</td>\n",
       "      <td>0.1080</td>\n",
       "      <td>0.0080</td>\n",
       "      <td>0.1000</td>\n",
       "      <td>0.005</td>\n",
       "      <td>0.1030</td>\n",
       "      <td>0.4033</td>\n",
       "      <td>10.8230</td>\n",
       "      <td>3.2835</td>\n",
       "    </tr>\n",
       "    <tr>\n",
       "      <th>4</th>\n",
       "      <td>2018-04-04 18:00:00</td>\n",
       "      <td>47.61350</td>\n",
       "      <td>165.33275</td>\n",
       "      <td>-13.65900</td>\n",
       "      <td>226.60525</td>\n",
       "      <td>212.94625</td>\n",
       "      <td>-80.21150</td>\n",
       "      <td>293.15775</td>\n",
       "      <td>-50.35425</td>\n",
       "      <td>263.30050</td>\n",
       "      <td>...</td>\n",
       "      <td>0.0045</td>\n",
       "      <td>0.1175</td>\n",
       "      <td>0.1220</td>\n",
       "      <td>0.0200</td>\n",
       "      <td>0.1020</td>\n",
       "      <td>0.015</td>\n",
       "      <td>0.1070</td>\n",
       "      <td>0.4653</td>\n",
       "      <td>30.3826</td>\n",
       "      <td>4.7192</td>\n",
       "    </tr>\n",
       "  </tbody>\n",
       "</table>\n",
       "<p>5 rows × 73 columns</p>\n",
       "</div>"
      ],
      "text/plain": [
       "\n",
       "              Datetime  EXO_SpCond_120delta  EXO_SpCond_120h_lag  \\\n",
       "\u001b[1;36m0\u001b[0m  \u001b[1;36m2018\u001b[0m-\u001b[1;36m01\u001b[0m-\u001b[1;36m22\u001b[0m \u001b[1;92m16:35:00\u001b[0m                  NaN                  NaN   \n",
       "\u001b[1;36m1\u001b[0m  \u001b[1;36m2018\u001b[0m-\u001b[1;36m02\u001b[0m-\u001b[1;36m28\u001b[0m \u001b[1;92m15:10:00\u001b[0m             \u001b[1;36m24.75075\u001b[0m            \u001b[1;36m277.89350\u001b[0m   \n",
       "\u001b[1;36m2\u001b[0m  \u001b[1;36m2018\u001b[0m-\u001b[1;36m03\u001b[0m-\u001b[1;36m20\u001b[0m \u001b[1;92m14:10:00\u001b[0m             \u001b[1;36m61.96175\u001b[0m            \u001b[1;36m392.43450\u001b[0m   \n",
       "\u001b[1;36m3\u001b[0m  \u001b[1;36m2018\u001b[0m-\u001b[1;36m04\u001b[0m-\u001b[1;36m04\u001b[0m \u001b[1;92m14:00:00\u001b[0m             \u001b[1;36m83.58150\u001b[0m            \u001b[1;36m173.80875\u001b[0m   \n",
       "\u001b[1;36m4\u001b[0m  \u001b[1;36m2018\u001b[0m-\u001b[1;36m04\u001b[0m-\u001b[1;36m04\u001b[0m \u001b[1;92m18:00:00\u001b[0m             \u001b[1;36m47.61350\u001b[0m            \u001b[1;36m165.33275\u001b[0m   \n",
       "\n",
       "   EXO_SpCond_1delta  EXO_SpCond_1h_lag  EXO_SpCond_1h_median  \\\n",
       "\u001b[1;36m0\u001b[0m                NaN                NaN                   NaN   \n",
       "\u001b[1;36m1\u001b[0m            \u001b[1;36m1.01275\u001b[0m          \u001b[1;36m301.63150\u001b[0m             \u001b[1;36m302.64425\u001b[0m   \n",
       "\u001b[1;36m2\u001b[0m            \u001b[1;36m1.50075\u001b[0m          \u001b[1;36m452.89550\u001b[0m             \u001b[1;36m454.39625\u001b[0m   \n",
       "\u001b[1;36m3\u001b[0m           \u001b[1;36m-5.91025\u001b[0m          \u001b[1;36m263.30050\u001b[0m             \u001b[1;36m257.39025\u001b[0m   \n",
       "\u001b[1;36m4\u001b[0m          \u001b[1;36m-13.65900\u001b[0m          \u001b[1;36m226.60525\u001b[0m             \u001b[1;36m212.94625\u001b[0m   \n",
       "\n",
       "   EXO_SpCond_24delta  EXO_SpCond_24h_lag  EXO_SpCond_5delta  \\\n",
       "\u001b[1;36m0\u001b[0m                 NaN                 NaN                NaN   \n",
       "\u001b[1;36m1\u001b[0m            \u001b[1;36m16.33200\u001b[0m           \u001b[1;36m286.31225\u001b[0m            \u001b[1;36m4.49050\u001b[0m   \n",
       "\u001b[1;36m2\u001b[0m            \u001b[1;36m-2.05325\u001b[0m           \u001b[1;36m456.44950\u001b[0m           \u001b[1;36m21.43975\u001b[0m   \n",
       "\u001b[1;36m3\u001b[0m           \u001b[1;36m-33.04675\u001b[0m           \u001b[1;36m290.43700\u001b[0m          \u001b[1;36m-25.54325\u001b[0m   \n",
       "\u001b[1;36m4\u001b[0m           \u001b[1;36m-80.21150\u001b[0m           \u001b[1;36m293.15775\u001b[0m          \u001b[1;36m-50.35425\u001b[0m   \n",
       "\n",
       "   EXO_SpCond_5h_lag  \u001b[33m...\u001b[0m  SoilMoisture_1delta  SoilMoisture_1h_lag  \\\n",
       "\u001b[1;36m0\u001b[0m                NaN  \u001b[33m...\u001b[0m               \u001b[1;36m0.0010\u001b[0m               \u001b[1;36m0.1230\u001b[0m   \n",
       "\u001b[1;36m1\u001b[0m          \u001b[1;36m298.15375\u001b[0m  \u001b[33m...\u001b[0m               \u001b[1;36m0.0000\u001b[0m               \u001b[1;36m0.1430\u001b[0m   \n",
       "\u001b[1;36m2\u001b[0m          \u001b[1;36m432.95650\u001b[0m  \u001b[33m...\u001b[0m               \u001b[1;36m0.0005\u001b[0m               \u001b[1;36m0.1260\u001b[0m   \n",
       "\u001b[1;36m3\u001b[0m          \u001b[1;36m282.93350\u001b[0m  \u001b[33m...\u001b[0m               \u001b[1;36m0.0010\u001b[0m               \u001b[1;36m0.1070\u001b[0m   \n",
       "\u001b[1;36m4\u001b[0m          \u001b[1;36m263.30050\u001b[0m  \u001b[33m...\u001b[0m               \u001b[1;36m0.0045\u001b[0m               \u001b[1;36m0.1175\u001b[0m   \n",
       "\n",
       "   SoilMoisture_1h_median  SoilMoisture_24delta  SoilMoisture_24h_lag  \\\n",
       "\u001b[1;36m0\u001b[0m                  \u001b[1;36m0.1240\u001b[0m                \u001b[1;36m0.0250\u001b[0m                \u001b[1;36m0.0990\u001b[0m   \n",
       "\u001b[1;36m1\u001b[0m                  \u001b[1;36m0.1430\u001b[0m               \u001b[1;36m-0.0045\u001b[0m                \u001b[1;36m0.1475\u001b[0m   \n",
       "\u001b[1;36m2\u001b[0m                  \u001b[1;36m0.1265\u001b[0m               \u001b[1;36m-0.0045\u001b[0m                \u001b[1;36m0.1310\u001b[0m   \n",
       "\u001b[1;36m3\u001b[0m                  \u001b[1;36m0.1080\u001b[0m                \u001b[1;36m0.0080\u001b[0m                \u001b[1;36m0.1000\u001b[0m   \n",
       "\u001b[1;36m4\u001b[0m                  \u001b[1;36m0.1220\u001b[0m                \u001b[1;36m0.0200\u001b[0m                \u001b[1;36m0.1020\u001b[0m   \n",
       "\n",
       "   SoilMoisture_5delta  SoilMoisture_5h_lag      TN       TP     TSP  \n",
       "\u001b[1;36m0\u001b[0m                \u001b[1;36m0.004\u001b[0m               \u001b[1;36m0.1200\u001b[0m  \u001b[1;36m0.5512\u001b[0m   \u001b[1;36m5.6920\u001b[0m  \u001b[1;36m3.5179\u001b[0m  \n",
       "\u001b[1;36m1\u001b[0m                \u001b[1;36m0.000\u001b[0m               \u001b[1;36m0.1430\u001b[0m  \u001b[1;36m0.3439\u001b[0m   \u001b[1;36m7.0481\u001b[0m  \u001b[1;36m3.1527\u001b[0m  \n",
       "\u001b[1;36m2\u001b[0m               \u001b[1;36m-0.001\u001b[0m               \u001b[1;36m0.1275\u001b[0m  \u001b[1;36m0.6172\u001b[0m  \u001b[1;36m12.4426\u001b[0m  \u001b[1;36m2.7000\u001b[0m  \n",
       "\u001b[1;36m3\u001b[0m                \u001b[1;36m0.005\u001b[0m               \u001b[1;36m0.1030\u001b[0m  \u001b[1;36m0.4033\u001b[0m  \u001b[1;36m10.8230\u001b[0m  \u001b[1;36m3.2835\u001b[0m  \n",
       "\u001b[1;36m4\u001b[0m                \u001b[1;36m0.015\u001b[0m               \u001b[1;36m0.1070\u001b[0m  \u001b[1;36m0.4653\u001b[0m  \u001b[1;36m30.3826\u001b[0m  \u001b[1;36m4.7192\u001b[0m  \n",
       "\n",
       "\u001b[1m[\u001b[0m\u001b[1;36m5\u001b[0m rows x \u001b[1;36m73\u001b[0m columns\u001b[1m]\u001b[0m"
      ]
     },
     "execution_count": 3,
     "metadata": {},
     "output_type": "execute_result"
    }
   ],
   "source": [
    "df_stream.head()"
   ]
  },
  {
   "cell_type": "code",
   "execution_count": 4,
   "metadata": {},
   "outputs": [
    {
     "data": {
      "text/html": [
       "<pre style=\"white-space:pre;overflow-x:auto;line-height:normal;font-family:Menlo,'DejaVu Sans Mono',consolas,'Courier New',monospace\"></pre>\n"
      ],
      "text/plain": []
     },
     "metadata": {},
     "output_type": "display_data"
    },
    {
     "data": {
      "text/plain": [
       "\u001b[1m(\u001b[0m\u001b[1;36m680\u001b[0m, \u001b[1;36m63\u001b[0m\u001b[1m)\u001b[0m"
      ]
     },
     "execution_count": 4,
     "metadata": {},
     "output_type": "execute_result"
    }
   ],
   "source": [
    "hour_of_day = df_stream[\"Datetime\"].apply(lambda x: x.split(\":\")[0][-2:]).astype(float)\n",
    "datetimes = pd.to_datetime(df_stream[\"Datetime\"])\n",
    "month = df_stream[\"Datetime\"].apply(lambda x: x.split(\"-\")[1]).astype(float)\n",
    "event = df_stream[\"Sample_Type\"].str.lower().values\n",
    "site = df_stream[\"Site\"].str.lower().values\n",
    "for col in [\"Site\", \"Datetime\", \"Sample_Type\"]:\n",
    "    df_stream.drop(col, axis=1, inplace=True)\n",
    "target_cols = [\"TP\", \"TSP\", \"SRP\", \"TN\", \"NO3\", \"NH4\", \"PP\"]\n",
    "targets = df_stream[target_cols].copy()\n",
    "y = np.array(targets[\"PP\"])  # Stick to one target\n",
    "for col in target_cols:\n",
    "    df_stream.drop(col, axis=1, inplace=True)\n",
    "df_stream.shape"
   ]
  },
  {
   "cell_type": "code",
   "execution_count": 5,
   "metadata": {},
   "outputs": [
    {
     "data": {
      "text/html": [
       "<pre style=\"white-space:pre;overflow-x:auto;line-height:normal;font-family:Menlo,'DejaVu Sans Mono',consolas,'Courier New',monospace\"></pre>\n"
      ],
      "text/plain": []
     },
     "metadata": {},
     "output_type": "display_data"
    },
    {
     "data": {
      "text/plain": [
       "\n",
       "TP     \u001b[1;36m0\u001b[0m\n",
       "TSP    \u001b[1;36m0\u001b[0m\n",
       "SRP    \u001b[1;36m0\u001b[0m\n",
       "TN     \u001b[1;36m0\u001b[0m\n",
       "NO3    \u001b[1;36m0\u001b[0m\n",
       "NH4    \u001b[1;36m0\u001b[0m\n",
       "PP     \u001b[1;36m0\u001b[0m\n",
       "dtype: int64"
      ]
     },
     "execution_count": 5,
     "metadata": {},
     "output_type": "execute_result"
    }
   ],
   "source": [
    "targets.isna().sum()"
   ]
  },
  {
   "cell_type": "code",
   "execution_count": 6,
   "metadata": {},
   "outputs": [
    {
     "data": {
      "text/html": [
       "<pre style=\"white-space:pre;overflow-x:auto;line-height:normal;font-family:Menlo,'DejaVu Sans Mono',consolas,'Courier New',monospace\"></pre>\n"
      ],
      "text/plain": []
     },
     "metadata": {},
     "output_type": "display_data"
    },
    {
     "data": {
      "text/plain": [
       "\n",
       "EXO_fDOM_120delta        \u001b[1;36m0.404412\u001b[0m\n",
       "EXO_Turb_120delta        \u001b[1;36m0.402941\u001b[0m\n",
       "SoilMoisture_120delta    \u001b[1;36m0.401471\u001b[0m\n",
       "EXO_pH_120delta          \u001b[1;36m0.395588\u001b[0m\n",
       "EXO_Temp_120delta        \u001b[1;36m0.394118\u001b[0m\n",
       "                           \u001b[33m...\u001b[0m   \n",
       "Press_kpa_1h_lag         \u001b[1;36m0.251471\u001b[0m\n",
       "Press_kpa_1h_median      \u001b[1;36m0.251471\u001b[0m\n",
       "Press_kpa_5h_lag         \u001b[1;36m0.248529\u001b[0m\n",
       "Press_kpa_120h_lag       \u001b[1;36m0.244118\u001b[0m\n",
       "Press_kpa_24h_lag        \u001b[1;36m0.238235\u001b[0m\n",
       "Length: \u001b[1;36m63\u001b[0m, dtype: float64"
      ]
     },
     "execution_count": 6,
     "metadata": {},
     "output_type": "execute_result"
    }
   ],
   "source": [
    "df_stream.isna().sum().sort_values(ascending=False) / df_stream.shape[0]"
   ]
  },
  {
   "cell_type": "code",
   "execution_count": 7,
   "metadata": {},
   "outputs": [
    {
     "data": {
      "text/html": [
       "<pre style=\"white-space:pre;overflow-x:auto;line-height:normal;font-family:Menlo,'DejaVu Sans Mono',consolas,'Courier New',monospace\"></pre>\n"
      ],
      "text/plain": []
     },
     "metadata": {},
     "output_type": "display_data"
    },
    {
     "data": {
      "text/plain": [
       "\u001b[1m<\u001b[0m\u001b[1;95mmatplotlib.colorbar.Colorbar\u001b[0m\u001b[39m object at \u001b[0m\u001b[1;36m0x795d62e57680\u001b[0m\u001b[1m>\u001b[0m"
      ]
     },
     "execution_count": 7,
     "metadata": {},
     "output_type": "execute_result"
    },
    {
     "data": {
      "text/html": [
       "<pre style=\"white-space:pre;overflow-x:auto;line-height:normal;font-family:Menlo,'DejaVu Sans Mono',consolas,'Courier New',monospace\"></pre>\n"
      ],
      "text/plain": []
     },
     "metadata": {},
     "output_type": "display_data"
    },
    {
     "data": {
      "image/png": "[encoded data removed]",
      "text/plain": [
       "\u001b[1m<\u001b[0m\u001b[1;95mFigure\u001b[0m\u001b[39m size 64\u001b[0m\u001b[1;36m0x480\u001b[0m\u001b[39m with \u001b[0m\u001b[1;36m2\u001b[0m\u001b[39m Axes\u001b[0m\u001b[1m>\u001b[0m"
      ]
     },
     "metadata": {},
     "output_type": "display_data"
    }
   ],
   "source": [
    "is_missing = df_stream.isna().astype(int)\n",
    "\n",
    "plt.imshow(is_missing, aspect=\"auto\", interpolation=\"none\")\n",
    "plt.colorbar()"
   ]
  },
  {
   "cell_type": "code",
   "execution_count": 8,
   "metadata": {},
   "outputs": [
    {
     "data": {
      "text/html": [
       "<pre style=\"white-space:pre;overflow-x:auto;line-height:normal;font-family:Menlo,'DejaVu Sans Mono',consolas,'Courier New',monospace\"></pre>\n"
      ],
      "text/plain": []
     },
     "metadata": {},
     "output_type": "display_data"
    },
    {
     "data": {
      "text/html": [
       "<div>\n",
       "<style scoped>\n",
       "    .dataframe tbody tr th:only-of-type {\n",
       "        vertical-align: middle;\n",
       "    }\n",
       "\n",
       "    .dataframe tbody tr th {\n",
       "        vertical-align: top;\n",
       "    }\n",
       "\n",
       "    .dataframe thead th {\n",
       "        text-align: right;\n",
       "    }\n",
       "</style>\n",
       "<table border=\"1\" class=\"dataframe\">\n",
       "  <thead>\n",
       "    <tr style=\"text-align: right;\">\n",
       "      <th></th>\n",
       "      <th>perc_feat_missing</th>\n",
       "      <th>event_type</th>\n",
       "      <th>site</th>\n",
       "      <th>datetime</th>\n",
       "      <th>hod</th>\n",
       "      <th>moy</th>\n",
       "    </tr>\n",
       "  </thead>\n",
       "  <tbody>\n",
       "    <tr>\n",
       "      <th>340</th>\n",
       "      <td>1.0</td>\n",
       "      <td>storm event</td>\n",
       "      <td>ts_northwestbay</td>\n",
       "      <td>2017-01-04 20:00:00</td>\n",
       "      <td>20.0</td>\n",
       "      <td>1.0</td>\n",
       "    </tr>\n",
       "    <tr>\n",
       "      <th>89</th>\n",
       "      <td>1.0</td>\n",
       "      <td>baseflow</td>\n",
       "      <td>ts_finkle</td>\n",
       "      <td>2016-03-30 17:20:00</td>\n",
       "      <td>17.0</td>\n",
       "      <td>3.0</td>\n",
       "    </tr>\n",
       "    <tr>\n",
       "      <th>87</th>\n",
       "      <td>1.0</td>\n",
       "      <td>storm event</td>\n",
       "      <td>ts_finkle</td>\n",
       "      <td>2016-02-25 10:15:00</td>\n",
       "      <td>10.0</td>\n",
       "      <td>2.0</td>\n",
       "    </tr>\n",
       "    <tr>\n",
       "      <th>86</th>\n",
       "      <td>1.0</td>\n",
       "      <td>storm event</td>\n",
       "      <td>ts_finkle</td>\n",
       "      <td>2016-02-25 06:15:00</td>\n",
       "      <td>6.0</td>\n",
       "      <td>2.0</td>\n",
       "    </tr>\n",
       "    <tr>\n",
       "      <th>85</th>\n",
       "      <td>1.0</td>\n",
       "      <td>storm event</td>\n",
       "      <td>ts_finkle</td>\n",
       "      <td>2016-02-25 02:15:00</td>\n",
       "      <td>2.0</td>\n",
       "      <td>2.0</td>\n",
       "    </tr>\n",
       "    <tr>\n",
       "      <th>...</th>\n",
       "      <td>...</td>\n",
       "      <td>...</td>\n",
       "      <td>...</td>\n",
       "      <td>...</td>\n",
       "      <td>...</td>\n",
       "      <td>...</td>\n",
       "    </tr>\n",
       "    <tr>\n",
       "      <th>427</th>\n",
       "      <td>0.0</td>\n",
       "      <td>storm event</td>\n",
       "      <td>ts_polehill</td>\n",
       "      <td>2018-10-28 13:59:00</td>\n",
       "      <td>13.0</td>\n",
       "      <td>10.0</td>\n",
       "    </tr>\n",
       "    <tr>\n",
       "      <th>425</th>\n",
       "      <td>0.0</td>\n",
       "      <td>storm event</td>\n",
       "      <td>ts_polehill</td>\n",
       "      <td>2018-10-27 16:00:00</td>\n",
       "      <td>16.0</td>\n",
       "      <td>10.0</td>\n",
       "    </tr>\n",
       "    <tr>\n",
       "      <th>424</th>\n",
       "      <td>0.0</td>\n",
       "      <td>storm event</td>\n",
       "      <td>ts_polehill</td>\n",
       "      <td>2018-10-27 03:59:00</td>\n",
       "      <td>3.0</td>\n",
       "      <td>10.0</td>\n",
       "    </tr>\n",
       "    <tr>\n",
       "      <th>423</th>\n",
       "      <td>0.0</td>\n",
       "      <td>baseflow</td>\n",
       "      <td>ts_polehill</td>\n",
       "      <td>2018-10-18 14:00:00</td>\n",
       "      <td>14.0</td>\n",
       "      <td>10.0</td>\n",
       "    </tr>\n",
       "    <tr>\n",
       "      <th>426</th>\n",
       "      <td>0.0</td>\n",
       "      <td>storm event</td>\n",
       "      <td>ts_polehill</td>\n",
       "      <td>2018-10-27 21:59:00</td>\n",
       "      <td>21.0</td>\n",
       "      <td>10.0</td>\n",
       "    </tr>\n",
       "  </tbody>\n",
       "</table>\n",
       "<p>680 rows × 6 columns</p>\n",
       "</div>"
      ],
      "text/plain": [
       "\n",
       "     perc_feat_missing   event_type             site            datetime  \\\n",
       "\u001b[1;36m340\u001b[0m                \u001b[1;36m1.0\u001b[0m  storm event  ts_northwestbay \u001b[1;36m2017\u001b[0m-\u001b[1;36m01\u001b[0m-\u001b[1;36m04\u001b[0m \u001b[1;92m20:00:00\u001b[0m   \n",
       "\u001b[1;36m89\u001b[0m                 \u001b[1;36m1.0\u001b[0m     baseflow        ts_finkle \u001b[1;36m2016\u001b[0m-\u001b[1;36m03\u001b[0m-\u001b[1;36m30\u001b[0m \u001b[1;92m17:20:00\u001b[0m   \n",
       "\u001b[1;36m87\u001b[0m                 \u001b[1;36m1.0\u001b[0m  storm event        ts_finkle \u001b[1;36m2016\u001b[0m-\u001b[1;36m02\u001b[0m-\u001b[1;36m25\u001b[0m \u001b[1;92m10:15:00\u001b[0m   \n",
       "\u001b[1;36m86\u001b[0m                 \u001b[1;36m1.0\u001b[0m  storm event        ts_finkle \u001b[1;36m2016\u001b[0m-\u001b[1;36m02\u001b[0m-\u001b[1;36m25\u001b[0m \u001b[1;92m06:15:00\u001b[0m   \n",
       "\u001b[1;36m85\u001b[0m                 \u001b[1;36m1.0\u001b[0m  storm event        ts_finkle \u001b[1;36m2016\u001b[0m-\u001b[1;36m02\u001b[0m-\u001b[1;36m25\u001b[0m \u001b[1;92m02:15:00\u001b[0m   \n",
       "..                 \u001b[33m...\u001b[0m          \u001b[33m...\u001b[0m              \u001b[33m...\u001b[0m                 \u001b[33m...\u001b[0m   \n",
       "\u001b[1;36m427\u001b[0m                \u001b[1;36m0.0\u001b[0m  storm event      ts_polehill \u001b[1;36m2018\u001b[0m-\u001b[1;36m10\u001b[0m-\u001b[1;36m28\u001b[0m \u001b[1;92m13:59:00\u001b[0m   \n",
       "\u001b[1;36m425\u001b[0m                \u001b[1;36m0.0\u001b[0m  storm event      ts_polehill \u001b[1;36m2018\u001b[0m-\u001b[1;36m10\u001b[0m-\u001b[1;36m27\u001b[0m \u001b[1;92m16:00:00\u001b[0m   \n",
       "\u001b[1;36m424\u001b[0m                \u001b[1;36m0.0\u001b[0m  storm event      ts_polehill \u001b[1;36m2018\u001b[0m-\u001b[1;36m10\u001b[0m-\u001b[1;36m27\u001b[0m \u001b[1;92m03:59:00\u001b[0m   \n",
       "\u001b[1;36m423\u001b[0m                \u001b[1;36m0.0\u001b[0m     baseflow      ts_polehill \u001b[1;36m2018\u001b[0m-\u001b[1;36m10\u001b[0m-\u001b[1;36m18\u001b[0m \u001b[1;92m14:00:00\u001b[0m   \n",
       "\u001b[1;36m426\u001b[0m                \u001b[1;36m0.0\u001b[0m  storm event      ts_polehill \u001b[1;36m2018\u001b[0m-\u001b[1;36m10\u001b[0m-\u001b[1;36m27\u001b[0m \u001b[1;92m21:59:00\u001b[0m   \n",
       "\n",
       "      hod   moy  \n",
       "\u001b[1;36m340\u001b[0m  \u001b[1;36m20.0\u001b[0m   \u001b[1;36m1.0\u001b[0m  \n",
       "\u001b[1;36m89\u001b[0m   \u001b[1;36m17.0\u001b[0m   \u001b[1;36m3.0\u001b[0m  \n",
       "\u001b[1;36m87\u001b[0m   \u001b[1;36m10.0\u001b[0m   \u001b[1;36m2.0\u001b[0m  \n",
       "\u001b[1;36m86\u001b[0m    \u001b[1;36m6.0\u001b[0m   \u001b[1;36m2.0\u001b[0m  \n",
       "\u001b[1;36m85\u001b[0m    \u001b[1;36m2.0\u001b[0m   \u001b[1;36m2.0\u001b[0m  \n",
       "..    \u001b[33m...\u001b[0m   \u001b[33m...\u001b[0m  \n",
       "\u001b[1;36m427\u001b[0m  \u001b[1;36m13.0\u001b[0m  \u001b[1;36m10.0\u001b[0m  \n",
       "\u001b[1;36m425\u001b[0m  \u001b[1;36m16.0\u001b[0m  \u001b[1;36m10.0\u001b[0m  \n",
       "\u001b[1;36m424\u001b[0m   \u001b[1;36m3.0\u001b[0m  \u001b[1;36m10.0\u001b[0m  \n",
       "\u001b[1;36m423\u001b[0m  \u001b[1;36m14.0\u001b[0m  \u001b[1;36m10.0\u001b[0m  \n",
       "\u001b[1;36m426\u001b[0m  \u001b[1;36m21.0\u001b[0m  \u001b[1;36m10.0\u001b[0m  \n",
       "\n",
       "\u001b[1m[\u001b[0m\u001b[1;36m680\u001b[0m rows x \u001b[1;36m6\u001b[0m columns\u001b[1m]\u001b[0m"
      ]
     },
     "execution_count": 8,
     "metadata": {},
     "output_type": "execute_result"
    }
   ],
   "source": [
    "feats_missing_per_row = pd.DataFrame({\n",
    "    \"perc_feat_missing\": df_stream.isna().sum(axis=1) / df_stream.shape[1],\n",
    "    \"event_type\": event,\n",
    "    \"site\": site, \n",
    "    \"datetime\": datetimes,\n",
    "    \"hod\": hour_of_day,\n",
    "    \"moy\": month\n",
    "}).sort_values(by = \"perc_feat_missing\", ascending=False)\n",
    "feats_missing_per_row"
   ]
  },
  {
   "cell_type": "code",
   "execution_count": 9,
   "metadata": {},
   "outputs": [
    {
     "data": {
      "text/html": [
       "<pre style=\"white-space:pre;overflow-x:auto;line-height:normal;font-family:Menlo,'DejaVu Sans Mono',consolas,'Courier New',monospace\"></pre>\n"
      ],
      "text/plain": []
     },
     "metadata": {},
     "output_type": "display_data"
    },
    {
     "data": {
      "text/plain": [
       "\u001b[1m<\u001b[0m\u001b[1;95mAxes:\u001b[0m\u001b[39m \u001b[0m\u001b[33mxlabel\u001b[0m\u001b[39m=\u001b[0m\u001b[32m'perc_feat_missing'\u001b[0m\u001b[39m, \u001b[0m\u001b[33mylabel\u001b[0m\u001b[39m=\u001b[0m\u001b[32m'Count'\u001b[0m\u001b[1m>\u001b[0m"
      ]
     },
     "execution_count": 9,
     "metadata": {},
     "output_type": "execute_result"
    },
    {
     "data": {
      "text/html": [
       "<pre style=\"white-space:pre;overflow-x:auto;line-height:normal;font-family:Menlo,'DejaVu Sans Mono',consolas,'Courier New',monospace\"></pre>\n"
      ],
      "text/plain": []
     },
     "metadata": {},
     "output_type": "display_data"
    },
    {
     "data": {
      "image/png": "[encoded data removed]",
      "text/plain": [
       "\u001b[1m<\u001b[0m\u001b[1;95mFigure\u001b[0m\u001b[39m size 64\u001b[0m\u001b[1;36m0x480\u001b[0m\u001b[39m with \u001b[0m\u001b[1;36m1\u001b[0m\u001b[39m Axes\u001b[0m\u001b[1m>\u001b[0m"
      ]
     },
     "metadata": {},
     "output_type": "display_data"
    }
   ],
   "source": [
    "sns.histplot(feats_missing_per_row[\"perc_feat_missing\"])"
   ]
  },
  {
   "cell_type": "code",
   "execution_count": 10,
   "metadata": {},
   "outputs": [],
   "source": [
    "to_delete = feats_missing_per_row[feats_missing_per_row[\"perc_feat_missing\"] > 0.2].index\n",
    "df_stream.drop(to_delete, axis=0, inplace=True)\n",
    "y = np.delete(y, to_delete)"
   ]
  },
  {
   "cell_type": "code",
   "execution_count": 11,
   "metadata": {},
   "outputs": [
    {
     "data": {
      "text/html": [
       "<pre style=\"white-space:pre;overflow-x:auto;line-height:normal;font-family:Menlo,'DejaVu Sans Mono',consolas,'Courier New',monospace\"></pre>\n"
      ],
      "text/plain": []
     },
     "metadata": {},
     "output_type": "display_data"
    },
    {
     "data": {
      "text/plain": [
       "\u001b[1m<\u001b[0m\u001b[1;95mmatplotlib.image.AxesImage\u001b[0m\u001b[39m object at \u001b[0m\u001b[1;36m0x795d630bf1d0\u001b[0m\u001b[1m>\u001b[0m"
      ]
     },
     "execution_count": 11,
     "metadata": {},
     "output_type": "execute_result"
    },
    {
     "data": {
      "text/html": [
       "<pre style=\"white-space:pre;overflow-x:auto;line-height:normal;font-family:Menlo,'DejaVu Sans Mono',consolas,'Courier New',monospace\"></pre>\n"
      ],
      "text/plain": []
     },
     "metadata": {},
     "output_type": "display_data"
    },
    {
     "data": {
      "image/png": "[encoded data removed]",
      "text/plain": [
       "\u001b[1m<\u001b[0m\u001b[1;95mFigure\u001b[0m\u001b[39m size 64\u001b[0m\u001b[1;36m0x480\u001b[0m\u001b[39m with \u001b[0m\u001b[1;36m1\u001b[0m\u001b[39m Axes\u001b[0m\u001b[1m>\u001b[0m"
      ]
     },
     "metadata": {},
     "output_type": "display_data"
    }
   ],
   "source": [
    "plt.imshow(df_stream.isna().astype(int), aspect=\"auto\", interpolation=\"none\")"
   ]
  },
  {
   "cell_type": "code",
   "execution_count": null,
   "metadata": {},
   "outputs": [],
   "source": []
  }
 ],
 "metadata": {
  "kernelspec": {
   "display_name": "model_citizen",
   "language": "python",
   "name": "python3"
  },
  "language_info": {
   "codemirror_mode": {
    "name": "ipython",
    "version": 3
   },
   "file_extension": ".py",
   "mimetype": "text/x-python",
   "name": "python",
   "nbconvert_exporter": "python",
   "pygments_lexer": "ipython3",
   "version": "3.12.7"
  }
 },
 "nbformat": 4,
 "nbformat_minor": 2
}
